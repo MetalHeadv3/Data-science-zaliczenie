{
  "nbformat": 4,
  "nbformat_minor": 0,
  "metadata": {
    "colab": {
      "provenance": [],
      "authorship_tag": "ABX9TyODdnJN0Ey/jig5SIhOACnJ",
      "include_colab_link": true
    },
    "kernelspec": {
      "name": "python3",
      "display_name": "Python 3"
    },
    "language_info": {
      "name": "python"
    }
  },
  "cells": [
    {
      "cell_type": "markdown",
      "metadata": {
        "id": "view-in-github",
        "colab_type": "text"
      },
      "source": [
        "<a href=\"https://colab.research.google.com/github/MetalHeadv3/Data-science-zaliczenie/blob/main/zad_1_3.ipynb\" target=\"_parent\"><img src=\"https://colab.research.google.com/assets/colab-badge.svg\" alt=\"Open In Colab\"/></a>"
      ]
    },
    {
      "cell_type": "code",
      "execution_count": 1,
      "metadata": {
        "colab": {
          "base_uri": "https://localhost:8080/"
        },
        "id": "Wzy2vX4JDe13",
        "outputId": "fbe08274-ad2c-4dc7-e396-164df7fd0c47"
      },
      "outputs": [
        {
          "output_type": "stream",
          "name": "stdout",
          "text": [
            "Podaj tekst: czesc tu ja \n",
            "Słownik zliczonych słów: {'czesc': 1, 'tu': 1, 'ja': 1}\n"
          ]
        }
      ],
      "source": [
        "import string\n",
        "\n",
        "tekst = input(\"Podaj tekst: \")\n",
        "\n",
        "\n",
        "for znak in string.punctuation:\n",
        "    tekst = tekst.replace(znak, \"\")\n",
        "\n",
        "\n",
        "slowa = tekst.split()\n",
        "\n",
        "\n",
        "slownik = {}\n",
        "for slowo in slowa:\n",
        "    if slowo in slownik:\n",
        "        slownik[slowo] += 1\n",
        "    else:\n",
        "        slownik[slowo] = 1\n",
        "\n",
        "print(\"Słownik zliczonych słów:\", slownik)\n"
      ]
    },
    {
      "cell_type": "code",
      "source": [
        "\n",
        "with open(\"slowa.txt\", \"w\", encoding=\"utf-8\") as f:\n",
        "    for slowo, liczba in slownik.items():\n",
        "        f.write(f\"{slowo}, {liczba}\\n\")\n"
      ],
      "metadata": {
        "id": "vN_k4scbDovt"
      },
      "execution_count": 2,
      "outputs": []
    },
    {
      "cell_type": "code",
      "source": [
        "def wypisz_ze_spacjami(n: int):\n",
        "    for i in range(1, n + 1):\n",
        "        print(\" \" * (i - 1) + str(i))\n",
        "\n",
        "wypisz_ze_spacjami(7)\n"
      ],
      "metadata": {
        "colab": {
          "base_uri": "https://localhost:8080/"
        },
        "id": "LKodK3-PDso5",
        "outputId": "bb3005c6-3ead-4aa2-cdd9-ef871c972059"
      },
      "execution_count": 4,
      "outputs": [
        {
          "output_type": "stream",
          "name": "stdout",
          "text": [
            "1\n",
            " 2\n",
            "  3\n",
            "   4\n",
            "    5\n",
            "     6\n",
            "      7\n"
          ]
        }
      ]
    }
  ]
}